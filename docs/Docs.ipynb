{
 "cells": [
  {
   "cell_type": "markdown",
   "id": "b36199a8-8836-483d-8cdf-fc72f6a52198",
   "metadata": {},
   "source": [
    "# Docs\n",
    "\n",
    "Notebook to generate example screenshots."
   ]
  },
  {
   "cell_type": "markdown",
   "id": "6eca53b6-0f2d-4aac-ab1d-e5e7bc3e8c80",
   "metadata": {},
   "source": [
    "## Filter"
   ]
  },
  {
   "cell_type": "code",
   "execution_count": 56,
   "id": "ca339a0c-e96a-4380-9bce-44cb0dde4fa4",
   "metadata": {},
   "outputs": [
    {
     "name": "stdout",
     "output_type": "stream",
     "text": [
      "The autoreload extension is already loaded. To reload it, use:\n",
      "  %reload_ext autoreload\n"
     ]
    }
   ],
   "source": [
    "%load_ext autoreload\n",
    "%autoreload 2"
   ]
  },
  {
   "cell_type": "code",
   "execution_count": 57,
   "id": "7cf449ef-53c4-4cc7-b8d4-f41505fdd803",
   "metadata": {},
   "outputs": [],
   "source": [
    "import napari\n",
    "from napari.utils import nbscreenshot\n",
    "import numpy as np\n",
    "from napari_skimage.skimage_filter_widget import RankFilterWidget, gaussian_filter_widget\n",
    "from napari_skimage.skimage_restoration_widget import rolling_ball_restoration_widget, denoise_nl_means_restoration_widget\n",
    "from napari_skimage.skimage_morphology_widget import morphology_widget, binary_morphology_widget\n",
    "from napari_skimage.skimage_threshold_widget import threshold_widget\n",
    "from napari_skimage.mathsops import maths_image_pairs_widget, simple_maths_widget"
   ]
  },
  {
   "cell_type": "code",
   "execution_count": 58,
   "id": "0e6f462f-89b0-4868-b962-d0d970c1adbc",
   "metadata": {},
   "outputs": [
    {
     "data": {
      "text/plain": [
       "<napari._qt.widgets.qt_viewer_dock_widget.QtViewerDockWidget at 0x31ab9fbe0>"
      ]
     },
     "execution_count": 58,
     "metadata": {},
     "output_type": "execute_result"
    }
   ],
   "source": [
    "viewer = napari.Viewer()\n",
    "self = gaussian_filter_widget()\n",
    "viewer.window.add_dock_widget(self)"
   ]
  },
  {
   "cell_type": "code",
   "execution_count": 59,
   "id": "368081b7-86aa-48de-96a3-9b77a5ddf814",
   "metadata": {},
   "outputs": [],
   "source": [
    "viewer.open_sample(plugin='napari', sample='cells3d')\n",
    "viewer.layers.remove('membrane')\n",
    "\n",
    "viewer.layers['nuclei'].data = viewer.layers['nuclei'].data[29,:,:]\n",
    "#viewer.layers[1].data = viewer.layers[1].data[29,:,:]\n",
    "\n",
    "self.sigma.value = 3\n",
    "self.call_button.clicked()\n",
    "\n",
    "viewer.grid.enabled = True\n",
    "\n",
    "viewer.screenshot(path='gaussian.png', canvas_only=False);"
   ]
  },
  {
   "cell_type": "code",
   "execution_count": 60,
   "id": "198e53dd-5106-460a-99da-29b3720b4cbc",
   "metadata": {},
   "outputs": [],
   "source": [
    "viewer.close()"
   ]
  },
  {
   "cell_type": "markdown",
   "id": "61ce4544-960f-4b04-b957-e324476a8cd0",
   "metadata": {},
   "source": [
    "## Threshold"
   ]
  },
  {
   "cell_type": "code",
   "execution_count": 61,
   "id": "05f1fc56-9485-4989-b9b3-5838d04d428e",
   "metadata": {},
   "outputs": [
    {
     "data": {
      "text/plain": [
       "<napari._qt.widgets.qt_viewer_dock_widget.QtViewerDockWidget at 0x30c8ffb50>"
      ]
     },
     "execution_count": 61,
     "metadata": {},
     "output_type": "execute_result"
    }
   ],
   "source": [
    "viewer = napari.Viewer()\n",
    "self = threshold_widget()\n",
    "viewer.window.add_dock_widget(self)"
   ]
  },
  {
   "cell_type": "code",
   "execution_count": 62,
   "id": "1a7b3f5e-d364-4996-b6c0-cc7556951f04",
   "metadata": {},
   "outputs": [],
   "source": [
    "viewer.open_sample(plugin='napari', sample='cells3d')\n",
    "viewer.layers.remove('membrane')\n",
    "viewer.layers['nuclei'].data = viewer.layers['nuclei'].data[29,:,:]\n",
    "self.call_button.clicked()\n",
    "viewer.grid.enabled = True\n",
    "viewer.screenshot(path='thresholding.png', canvas_only=False);"
   ]
  },
  {
   "cell_type": "markdown",
   "id": "01f88ce1-70ef-4f6b-b860-661d3a2d5554",
   "metadata": {},
   "source": [
    "## Binary"
   ]
  },
  {
   "cell_type": "code",
   "execution_count": 63,
   "id": "ff26b5cb-f6aa-4ddf-8a99-4e5c20a423b9",
   "metadata": {},
   "outputs": [],
   "source": [
    "viewer.window.remove_dock_widget(self.native)"
   ]
  },
  {
   "cell_type": "code",
   "execution_count": 64,
   "id": "cd875add-ee08-40c9-abe7-d7abc8d8ab20",
   "metadata": {},
   "outputs": [
    {
     "data": {
      "text/plain": [
       "<napari._qt.widgets.qt_viewer_dock_widget.QtViewerDockWidget at 0x30df9c430>"
      ]
     },
     "execution_count": 64,
     "metadata": {},
     "output_type": "execute_result"
    }
   ],
   "source": [
    "self = binary_morphology_widget()\n",
    "viewer.window.add_dock_widget(self)"
   ]
  },
  {
   "cell_type": "code",
   "execution_count": 65,
   "id": "ea746f56-067b-4f23-a33f-7a252afd5278",
   "metadata": {},
   "outputs": [],
   "source": [
    "viewer.layers[0].visible = False"
   ]
  },
  {
   "cell_type": "code",
   "execution_count": 66,
   "id": "d82c2749-9489-442b-8d4c-8d7a7087fcfa",
   "metadata": {},
   "outputs": [],
   "source": [
    "self.footprint_size.value = 3\n",
    "self.call_button.clicked()"
   ]
  },
  {
   "cell_type": "code",
   "execution_count": 67,
   "id": "25cbcb13-3ac1-429d-815a-e67d0b8be76f",
   "metadata": {},
   "outputs": [],
   "source": [
    "viewer.screenshot(path='binary_morphology.png', canvas_only=False);"
   ]
  },
  {
   "cell_type": "markdown",
   "id": "720bc9d3-8bd6-47ac-88e1-6dd57be2f811",
   "metadata": {},
   "source": [
    "## Morphological"
   ]
  },
  {
   "cell_type": "code",
   "execution_count": 68,
   "id": "539b9b2d-3ea2-46f1-9672-8460a246a6a3",
   "metadata": {},
   "outputs": [
    {
     "data": {
      "text/plain": [
       "<Labels layer 'nuclei_threshold_otsu_erosion' at 0x17f23aa10>"
      ]
     },
     "execution_count": 68,
     "metadata": {},
     "output_type": "execute_result"
    }
   ],
   "source": [
    "viewer.layers.pop(1)\n",
    "viewer.layers.pop(1)"
   ]
  },
  {
   "cell_type": "code",
   "execution_count": 69,
   "id": "7c5e8183-3e57-49ec-964f-54280e6c6957",
   "metadata": {},
   "outputs": [],
   "source": [
    "viewer.layers[0].visible = True"
   ]
  },
  {
   "cell_type": "code",
   "execution_count": 70,
   "id": "27363f79-be68-43f5-8687-38e3b0f6239f",
   "metadata": {},
   "outputs": [],
   "source": [
    "viewer.window.remove_dock_widget(self.native)"
   ]
  },
  {
   "cell_type": "code",
   "execution_count": 71,
   "id": "6e7aa344-3d70-4ef2-a189-b83dd8c58968",
   "metadata": {},
   "outputs": [
    {
     "data": {
      "text/plain": [
       "<napari._qt.widgets.qt_viewer_dock_widget.QtViewerDockWidget at 0x1748ff130>"
      ]
     },
     "execution_count": 71,
     "metadata": {},
     "output_type": "execute_result"
    }
   ],
   "source": [
    "self = morphology_widget()\n",
    "viewer.window.add_dock_widget(self)"
   ]
  },
  {
   "cell_type": "code",
   "execution_count": 72,
   "id": "02d791e9-76f2-4283-83c9-c692c61b476c",
   "metadata": {},
   "outputs": [],
   "source": [
    "self.call_button.clicked()"
   ]
  },
  {
   "cell_type": "code",
   "execution_count": 73,
   "id": "de1428af-f03e-4424-9e05-5439531242e3",
   "metadata": {},
   "outputs": [],
   "source": [
    "viewer.screenshot(path='morphology.png', canvas_only=False);"
   ]
  },
  {
   "cell_type": "markdown",
   "id": "f4a93dbc-5a37-4671-9911-43c43d3967df",
   "metadata": {},
   "source": [
    "## Maths"
   ]
  },
  {
   "cell_type": "code",
   "execution_count": 74,
   "id": "458025f1-31c0-4d05-be7e-548eb363ea58",
   "metadata": {},
   "outputs": [
    {
     "data": {
      "text/plain": [
       "<Image layer 'nuclei_erosion' at 0x303c8c790>"
      ]
     },
     "execution_count": 74,
     "metadata": {},
     "output_type": "execute_result"
    }
   ],
   "source": [
    "viewer.layers.pop(1)"
   ]
  },
  {
   "cell_type": "code",
   "execution_count": 75,
   "id": "ded8c07d-aaf1-4971-9c25-757305114c30",
   "metadata": {},
   "outputs": [
    {
     "data": {
      "text/plain": [
       "<napari._qt.widgets.qt_viewer_dock_widget.QtViewerDockWidget at 0x1748ffa30>"
      ]
     },
     "execution_count": 75,
     "metadata": {},
     "output_type": "execute_result"
    }
   ],
   "source": [
    "viewer.window.remove_dock_widget(self.native)\n",
    "self = simple_maths_widget()\n",
    "viewer.window.add_dock_widget(self)"
   ]
  },
  {
   "cell_type": "code",
   "execution_count": 76,
   "id": "d48e1efe-afb4-475f-8133-cc2d1b2ff048",
   "metadata": {},
   "outputs": [],
   "source": [
    "self.operation.value = 'log'"
   ]
  },
  {
   "cell_type": "code",
   "execution_count": 77,
   "id": "7ccd2cd4-f55f-4077-8708-5602b01e599e",
   "metadata": {},
   "outputs": [],
   "source": [
    "self.call_button.clicked()"
   ]
  },
  {
   "cell_type": "code",
   "execution_count": 78,
   "id": "70d3f613-7676-40ba-b1d1-0e58616bc7e8",
   "metadata": {},
   "outputs": [],
   "source": [
    "viewer.screenshot(path='simple_maths.png', canvas_only=False);"
   ]
  },
  {
   "cell_type": "markdown",
   "id": "23c08552-70c8-487b-9180-74cf826a1d57",
   "metadata": {},
   "source": [
    "## Restoration"
   ]
  },
  {
   "cell_type": "code",
   "execution_count": 79,
   "id": "c463ad1a-42ee-4a4a-952d-0e2d4f77b04a",
   "metadata": {},
   "outputs": [],
   "source": [
    "viewer.layers[0].visible = False"
   ]
  },
  {
   "cell_type": "code",
   "execution_count": 80,
   "id": "943d2f64-a3b2-426c-a851-611191048406",
   "metadata": {},
   "outputs": [
    {
     "data": {
      "text/plain": [
       "<napari._qt.widgets.qt_viewer_dock_widget.QtViewerDockWidget at 0x3043284c0>"
      ]
     },
     "execution_count": 80,
     "metadata": {},
     "output_type": "execute_result"
    }
   ],
   "source": [
    "viewer.window.remove_dock_widget(self.native)\n",
    "self = denoise_nl_means_restoration_widget()\n",
    "viewer.window.add_dock_widget(self)"
   ]
  },
  {
   "cell_type": "code",
   "execution_count": 81,
   "id": "aa40ca0e-292e-44bc-938a-6da11d491ca2",
   "metadata": {},
   "outputs": [],
   "source": [
    "self.call_button.clicked()"
   ]
  },
  {
   "cell_type": "code",
   "execution_count": 82,
   "id": "ec5e9f52-a671-4fa1-8749-ece219161e87",
   "metadata": {},
   "outputs": [],
   "source": [
    "viewer.screenshot(path='denoise_nl.png', canvas_only=False);"
   ]
  },
  {
   "cell_type": "code",
   "execution_count": null,
   "id": "7525056a-f95b-4e9a-8bb3-6c87b8986770",
   "metadata": {},
   "outputs": [],
   "source": []
  }
 ],
 "metadata": {
  "kernelspec": {
   "display_name": "Python 3 (ipykernel)",
   "language": "python",
   "name": "python3"
  },
  "language_info": {
   "codemirror_mode": {
    "name": "ipython",
    "version": 3
   },
   "file_extension": ".py",
   "mimetype": "text/x-python",
   "name": "python",
   "nbconvert_exporter": "python",
   "pygments_lexer": "ipython3",
   "version": "3.11.9"
  }
 },
 "nbformat": 4,
 "nbformat_minor": 5
}
